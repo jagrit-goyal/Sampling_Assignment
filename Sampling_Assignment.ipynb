{
  "cells": [
    {
      "cell_type": "code",
      "execution_count": 1,
      "metadata": {
        "colab": {
          "base_uri": "https://localhost:8080/"
        },
        "id": "si3QOSlwMTNY",
        "outputId": "781e5acd-5ff8-4621-ea53-dbb08ba009fa"
      },
      "outputs": [
        {
          "name": "stdout",
          "output_type": "stream",
          "text": [
            "class 0: (763, 31)\n",
            "class 1: (9, 31)\n"
          ]
        }
      ],
      "source": [
        "import pandas as pd\n",
        "from collections import Counter\n",
        "from imblearn.under_sampling import RandomUnderSampler\n",
        "from imblearn.under_sampling import TomekLinks\n",
        "from imblearn.over_sampling import SMOTE\n",
        "from imblearn.under_sampling import NearMiss\n",
        "from imblearn.over_sampling import RandomOverSampler\n",
        "from sklearn.neighbors import KNeighborsClassifier\n",
        "from sklearn.svm import SVC\n",
        "from sklearn.ensemble import RandomForestClassifier\n",
        "from sklearn.tree import DecisionTreeClassifier\n",
        "from sklearn.linear_model import LogisticRegression\n",
        "from sklearn.model_selection import train_test_split\n",
        "from sklearn.metrics import accuracy_score\n",
        "\n",
        "data = pd.read_csv('Creditcard_data.csv')\n",
        "class_count_0, class_count_1 = data['Class'].value_counts()\n",
        "\n",
        "class_0 = data[data['Class'] == 0]\n",
        "class_1 = data[data['Class'] == 1]\n",
        "print('class 0:', class_0.shape)\n",
        "print('class 1:', class_1.shape)"
      ]
    },
    {
      "cell_type": "code",
      "execution_count": 2,
      "metadata": {
        "id": "5IOmYAZNVKpE"
      },
      "outputs": [],
      "source": [
        "X=data.drop('Class',axis=1)\n",
        "y=data['Class']"
      ]
    },
    {
      "cell_type": "code",
      "execution_count": 3,
      "metadata": {
        "id": "WdmwgBHqUxl7"
      },
      "outputs": [],
      "source": [
        "# Random Under-Sampling With Imblearn\n",
        "def random_undersampler(x, y):\n",
        "  rus = RandomUnderSampler(random_state=42, replacement=True)\n",
        "  x_rus, y_rus = rus.fit_resample(x, y)\n",
        "  return x_rus, y_rus"
      ]
    },
    {
      "cell_type": "code",
      "execution_count": 4,
      "metadata": {
        "id": "t8rqzO0rVeB1"
      },
      "outputs": [],
      "source": [
        "# Random Over-Sampling With imblearn\n",
        "def random_oversampler(x, y):\n",
        "  ros = RandomOverSampler(random_state=42)\n",
        "  x_ros, y_ros = ros.fit_resample(x, y)\n",
        "  return x_ros, y_ros\n"
      ]
    },
    {
      "cell_type": "code",
      "execution_count": 5,
      "metadata": {
        "id": "ghgKBBjFVwG9"
      },
      "outputs": [],
      "source": [
        "# Under-Sampling: Tomek Links\n",
        "def tomek_links_sampling(x, y):\n",
        "  tl = TomekLinks()\n",
        "  x_tl, y_tl = tl.fit_resample(x, y)\n",
        "  return x_tl, y_tl"
      ]
    },
    {
      "cell_type": "code",
      "execution_count": 6,
      "metadata": {
        "id": "y30eYi2CV80S"
      },
      "outputs": [],
      "source": [
        "# Synthetic Minority Oversampling Technique (SMOTE)\n",
        "def smote_sampling(x, y):\n",
        "  smote = SMOTE()\n",
        "  x_smote, y_smote = smote.fit_resample(x, y)\n",
        "  return x_smote, y_smote"
      ]
    },
    {
      "cell_type": "code",
      "execution_count": 7,
      "metadata": {
        "id": "hU5jXvN3WIvK"
      },
      "outputs": [],
      "source": [
        "# NearMiss\n",
        "def nearmiss_sampling(x, y):\n",
        "  nm = NearMiss()\n",
        "  x_nm, y_nm = nm.fit_resample(x, y)\n",
        "  return x_nm, y_nm"
      ]
    },
    {
      "cell_type": "code",
      "execution_count": 8,
      "metadata": {
        "id": "zJHN-uBtWPe6"
      },
      "outputs": [],
      "source": [
        "def logistic_regression(X, y):\n",
        "  X_train, X_test, y_train, y_test = train_test_split(X, y, test_size=0.25, random_state=42)\n",
        "  model = LogisticRegression()\n",
        "  model.fit(X_train, y_train)\n",
        "  y_pred = model.predict(X_test)\n",
        "  return accuracy_score(y_test, y_pred)"
      ]
    },
    {
      "cell_type": "code",
      "execution_count": 9,
      "metadata": {
        "id": "r8UFcJFVXh4r"
      },
      "outputs": [],
      "source": [
        "def decision_tree(X, y):\n",
        "  X_train, X_test, y_train, y_test = train_test_split(X, y, test_size=0.25, random_state=42)\n",
        "  model = DecisionTreeClassifier()\n",
        "  model.fit(X_train, y_train)\n",
        "  y_pred = model.predict(X_test)\n",
        "  return accuracy_score(y_test, y_pred)"
      ]
    },
    {
      "cell_type": "code",
      "execution_count": 10,
      "metadata": {
        "id": "-2vmkce2Xo1s"
      },
      "outputs": [],
      "source": [
        "def random_forest(X, y):\n",
        "  X_train, X_test, y_train, y_test = train_test_split(X, y, test_size=0.25, random_state=42)\n",
        "  model = RandomForestClassifier()\n",
        "  model.fit(X_train, y_train)\n",
        "  y_pred = model.predict(X_test)\n",
        "  return accuracy_score(y_test, y_pred)"
      ]
    },
    {
      "cell_type": "code",
      "execution_count": 11,
      "metadata": {
        "id": "T6tppdXvXt9d"
      },
      "outputs": [],
      "source": [
        "def support_vector_machine(X, y):\n",
        "  X_train, X_test, y_train, y_test = train_test_split(X, y, test_size=0.25, random_state=42)\n",
        "  model = SVC()\n",
        "  model.fit(X_train, y_train)\n",
        "  y_pred = model.predict(X_test)\n",
        "  return accuracy_score(y_test, y_pred)"
      ]
    },
    {
      "cell_type": "code",
      "execution_count": 12,
      "metadata": {
        "id": "xoKeskeiX3ey"
      },
      "outputs": [],
      "source": [
        "def k_nearest_neighbors(X, y):\n",
        "  X_train, X_test, y_train, y_test = train_test_split(X, y, test_size=0.25, random_state=42)\n",
        "  model = KNeighborsClassifier(n_neighbors=3)\n",
        "  model.fit(X_train, y_train)\n",
        "  y_pred = model.predict(X_test)\n",
        "  return accuracy_score(y_test, y_pred)"
      ]
    },
    {
      "cell_type": "code",
      "execution_count": 13,
      "metadata": {
        "colab": {
          "base_uri": "https://localhost:8080/"
        },
        "id": "eHU_SruVYT6G",
        "outputId": "e22e67fb-1b06-4033-8144-1afd56d64cae"
      },
      "outputs": [
        {
          "name": "stderr",
          "output_type": "stream",
          "text": [
            "c:\\ProgramData\\anaconda3\\lib\\site-packages\\sklearn\\linear_model\\_logistic.py:458: ConvergenceWarning: lbfgs failed to converge (status=1):\n",
            "STOP: TOTAL NO. of ITERATIONS REACHED LIMIT.\n",
            "\n",
            "Increase the number of iterations (max_iter) or scale the data as shown in:\n",
            "    https://scikit-learn.org/stable/modules/preprocessing.html\n",
            "Please also refer to the documentation for alternative solver options:\n",
            "    https://scikit-learn.org/stable/modules/linear_model.html#logistic-regression\n",
            "  n_iter_i = _check_optimize_result(\n",
            "c:\\ProgramData\\anaconda3\\lib\\site-packages\\sklearn\\linear_model\\_logistic.py:458: ConvergenceWarning: lbfgs failed to converge (status=1):\n",
            "STOP: TOTAL NO. of ITERATIONS REACHED LIMIT.\n",
            "\n",
            "Increase the number of iterations (max_iter) or scale the data as shown in:\n",
            "    https://scikit-learn.org/stable/modules/preprocessing.html\n",
            "Please also refer to the documentation for alternative solver options:\n",
            "    https://scikit-learn.org/stable/modules/linear_model.html#logistic-regression\n",
            "  n_iter_i = _check_optimize_result(\n",
            "c:\\ProgramData\\anaconda3\\lib\\site-packages\\sklearn\\linear_model\\_logistic.py:458: ConvergenceWarning: lbfgs failed to converge (status=1):\n",
            "STOP: TOTAL NO. of ITERATIONS REACHED LIMIT.\n",
            "\n",
            "Increase the number of iterations (max_iter) or scale the data as shown in:\n",
            "    https://scikit-learn.org/stable/modules/preprocessing.html\n",
            "Please also refer to the documentation for alternative solver options:\n",
            "    https://scikit-learn.org/stable/modules/linear_model.html#logistic-regression\n",
            "  n_iter_i = _check_optimize_result(\n",
            "c:\\ProgramData\\anaconda3\\lib\\site-packages\\sklearn\\linear_model\\_logistic.py:458: ConvergenceWarning: lbfgs failed to converge (status=1):\n",
            "STOP: TOTAL NO. of ITERATIONS REACHED LIMIT.\n",
            "\n",
            "Increase the number of iterations (max_iter) or scale the data as shown in:\n",
            "    https://scikit-learn.org/stable/modules/preprocessing.html\n",
            "Please also refer to the documentation for alternative solver options:\n",
            "    https://scikit-learn.org/stable/modules/linear_model.html#logistic-regression\n",
            "  n_iter_i = _check_optimize_result(\n",
            "c:\\ProgramData\\anaconda3\\lib\\site-packages\\sklearn\\linear_model\\_logistic.py:458: ConvergenceWarning: lbfgs failed to converge (status=1):\n",
            "STOP: TOTAL NO. of ITERATIONS REACHED LIMIT.\n",
            "\n",
            "Increase the number of iterations (max_iter) or scale the data as shown in:\n",
            "    https://scikit-learn.org/stable/modules/preprocessing.html\n",
            "Please also refer to the documentation for alternative solver options:\n",
            "    https://scikit-learn.org/stable/modules/linear_model.html#logistic-regression\n",
            "  n_iter_i = _check_optimize_result(\n"
          ]
        },
        {
          "name": "stdout",
          "output_type": "stream",
          "text": [
            "                    LR        DT        RF       SVM       KNN\n",
            "undersampler  0.200000  0.400000  0.400000  0.000000  0.800000\n",
            "oversampler   0.910995  0.979058  1.000000  0.685864  0.992147\n",
            "tomek         0.989583  0.973958  0.989583  0.989583  0.989583\n",
            "smote         0.918848  0.971204  0.989529  0.714660  0.842932\n",
            "nearmiss      0.200000  0.000000  0.000000  0.000000  0.800000\n"
          ]
        }
      ],
      "source": [
        "results_matrix = []\n",
        "rows=[\"undersampler\",\"oversampler\",\"tomek\",\"smote\",\"nearmiss\"]\n",
        "columns=[\"LR\",\"DT\",\"RF\",\"SVM\",\"KNN\"]\n",
        "for i, sampling_method in enumerate([random_undersampler,random_oversampler,tomek_links_sampling,smote_sampling,nearmiss_sampling]):\n",
        "    row=[]\n",
        "    for j, model in enumerate([logistic_regression, decision_tree, random_forest, support_vector_machine, k_nearest_neighbors]):\n",
        "\n",
        "        sampled_X,sampled_y = sampling_method(X,y)\n",
        "\n",
        "        accuracy = model(sampled_X, sampled_y)\n",
        "\n",
        "        row.append(accuracy)\n",
        "    results_matrix.append(row)\n",
        "\n",
        "df = pd.DataFrame(results_matrix,columns=columns,index=list(rows))\n",
        "print(df)"
      ]
    },
    {
      "cell_type": "code",
      "execution_count": null,
      "metadata": {},
      "outputs": [],
      "source": []
    }
  ],
  "metadata": {
    "colab": {
      "provenance": []
    },
    "kernelspec": {
      "display_name": "Python 3",
      "name": "python3"
    },
    "language_info": {
      "codemirror_mode": {
        "name": "ipython",
        "version": 3
      },
      "file_extension": ".py",
      "mimetype": "text/x-python",
      "name": "python",
      "nbconvert_exporter": "python",
      "pygments_lexer": "ipython3",
      "version": "3.10.9"
    }
  },
  "nbformat": 4,
  "nbformat_minor": 0
}
